{
 "cells": [
  {
   "cell_type": "markdown",
   "metadata": {},
   "source": [
    "# Process Framework\n",
    "\n",
    "## Overview\n",
    "\n",
    "Two process steps will and one supporting process step will be defined: \n",
    "\n",
    "- `retrieveWinnerProcessStep`: Defines the functionality to retrieve the winner of the sport event. \n",
    "- `retrieveScoreProcessStep`: Defines the functionality to retrieve the score of the sport event.\n",
    "- `storeResultProcessStep`: Acts as supporting process step which can store winner and score and will finally show the result of the process flow.\n",
    "\n",
    "All three steps are defined as classes with class functions, use Semantic Kernel and the function calling possibilities of the deployed OpenAI GPT-4o model to identify and execute local functions.\n",
    "\n",
    "![](../media/img/Process_Overview.png)\n",
    "\n",
    "The process is defined using a `ProcessBuilder()` instance and `ProcessStepBuilder()` instances for every process step:\n",
    "\n",
    "```csharp\n",
    "processBuilder\n",
    "    .OnInputEvent(\"RetrieveSportEventResult\")\n",
    "    .SendEventTo(new (retrieveWinnerProcessStep));\n",
    "\n",
    "retrieveWinnerProcessStep\n",
    "    .OnFunctionResult()\n",
    "    .SendEventTo(new (retrieveScoreProcessStep))\n",
    "    .SendEventTo(new (storeResultProcessStep, functionName: \"StoreResult\"));\n",
    "\n",
    "retrieveScoreProcessStep\n",
    "    .OnFunctionResult()\n",
    "    .SendEventTo(new (storeResultProcessStep, functionName: \"DisplayResults\"));\n",
    "```\n",
    "\n",
    "\n",
    "\n",
    "\n"
   ]
  },
  {
   "cell_type": "markdown",
   "metadata": {},
   "source": [
    "## Environment\n",
    "\n",
    "An Azure OpenAI GPT-4 instance will be used by Semantic Kernel and it's current Agent framework to identify which local functions need to be executed. The necessary connection information is imported from the ***config.env*** file in the [../config/ folder](../config). You can use the provided [Azure CLI Powershell script](../setup/setup.azcli) to create the necessary instance."
   ]
  },
  {
   "cell_type": "code",
   "execution_count": null,
   "metadata": {
    "dotnet_interactive": {
     "language": "csharp"
    },
    "polyglot_notebook": {
     "kernelName": "csharp"
    }
   },
   "outputs": [
    {
     "data": {
      "text/html": [
       "<div><div></div><div></div><div><strong>Installed Packages</strong><ul><li><span>DotNetEnv, 3.1.1</span></li><li><span>Microsoft.SemanticKernel, 1.38.0</span></li><li><span>Microsoft.SemanticKernel.Process.Core, 1.38.0-alpha</span></li><li><span>Microsoft.SemanticKernel.Process.LocalRuntime, 1.38.0-alpha</span></li></ul></div></div>"
      ]
     },
     "metadata": {},
     "output_type": "display_data"
    },
    {
     "name": "stdout",
     "output_type": "stream",
     "text": [
      "Configuration loaded...\n"
     ]
    }
   ],
   "source": [
    "#r \"nuget: Microsoft.SemanticKernel, 1.38.0\"\n",
    "#r \"nuget: Microsoft.SemanticKernel.Process.Core, 1.38.0-alpha\"\n",
    "#r \"nuget: Microsoft.SemanticKernel.Process.LocalRuntime, 1.38.0-alpha\"\n",
    "#r \"nuget: DotNetEnv, 3.1.1\"\n",
    "\n",
    "using System.ClientModel; \n",
    "using System.ComponentModel;\n",
    "using Microsoft.Extensions.DependencyInjection;\n",
    "using Microsoft.SemanticKernel;\n",
    "using Microsoft.SemanticKernel.ChatCompletion;\n",
    "using Microsoft.SemanticKernel.Process;\n",
    "using DotNetEnv;\n",
    "\n",
    "string configurationFile = \"../config/config.env\";\n",
    "\n",
    "Env.Load(configurationFile);\n",
    "\n",
    "public class Configuration {\n",
    "    public string ApiKey { get; set; } = Env.GetString(\"SK_OPENAI_APIKEY\");\n",
    "    public string Endpoint { get; set; } = Env.GetString(\"SK_OPENAI_ENDPOINT\");\n",
    "    public string ChatCompletionDeploymentDefault { get; set; } = Env.GetString(\"SK_OPENAI_CHATCOMPLETION_DEPLOYMENT_DEFAULT\");\n",
    "}\n",
    "\n",
    "Console.WriteLine($\"Configuration loaded...\");"
   ]
  },
  {
   "cell_type": "markdown",
   "metadata": {},
   "source": [
    "## Define Process Step Functionality\n",
    "\n",
    "### RetrieveWinnerProcessStep\n",
    "\n",
    "Semantic Kernel and it's plug-in architecture which uses the function calling API of a LLM or SLM is used to identify and execute local functions to identify the winner of the sport event. \n",
    "\n",
    "The function(s) provided in the type `RetrieveWinner` are provided to Semantic Kernel to identify and execute the local function `public string GetSportEventWinner()` with the correct parameters.  \n",
    "\n",
    "```csharp\n",
    "kernel.Plugins.Clear();\n",
    "kernel.Plugins.AddFromType<RetrieveWinner>(\"RetrieveWinner\");\n",
    "```\n"
   ]
  },
  {
   "cell_type": "code",
   "execution_count": null,
   "metadata": {
    "dotnet_interactive": {
     "language": "csharp"
    },
    "polyglot_notebook": {
     "kernelName": "csharp"
    }
   },
   "outputs": [
    {
     "name": "stdout",
     "output_type": "stream",
     "text": [
      "'RetrieveWinnerProcessStep' defined...\n"
     ]
    }
   ],
   "source": [
    "#pragma warning disable SKEXP0080\n",
    "\n",
    "public class RetrieveWinnerProcessStep : KernelProcessStep\n",
    "{\n",
    "    [KernelFunction]\n",
    "    public async Task<string> QueryForWinner(Kernel kernel, string sportEventName)\n",
    "    {\n",
    "        Console.WriteLine($\"\\n'QueryForWinner({sportEventName}) called...\");\n",
    "        \n",
    "        IChatCompletionService chatCompletionService = kernel.GetRequiredService<IChatCompletionService>();\n",
    "\n",
    "        string prompt = @$\"\n",
    "            Who won the {sportEventName}? \n",
    "            Just return the name of the winning team.\n",
    "        \";\n",
    "        ChatHistory chatHistory = new ChatHistory();\n",
    "        chatHistory.AddUserMessage(prompt);\n",
    "        \n",
    "        kernel.Plugins.Clear();\n",
    "        kernel.Plugins.AddFromType<RetrieveWinner>(\"RetrieveWinner\");\n",
    "\n",
    "        KernelFunction getSportEventWinner = kernel.Plugins.GetFunction(\"RetrieveWinner\", \"get_sport_event_winner\");\n",
    "        PromptExecutionSettings promptExecutionSettings = new PromptExecutionSettings() {\n",
    "            FunctionChoiceBehavior = FunctionChoiceBehavior.Required(\n",
    "                new List<KernelFunction>() { getSportEventWinner }  \n",
    "            )\n",
    "        };\n",
    "        promptExecutionSettings.FunctionChoiceBehavior = FunctionChoiceBehavior.Auto();\n",
    "        \n",
    "        Console.WriteLine($\"\\t'ChatCompletionService' called...\");\n",
    "        ChatMessageContent chatMessageContent = await chatCompletionService.GetChatMessageContentAsync(\n",
    "            chatHistory: chatHistory, \n",
    "            executionSettings: promptExecutionSettings,\n",
    "            kernel: kernel\n",
    "        );\n",
    "\n",
    "        Console.WriteLine($\"\\t'ChatCompletionService' returned {chatMessageContent.Content}...\");\n",
    "        return $\"Winner: {chatMessageContent.Content ?? \"\"} - Event: {sportEventName}\";\n",
    "    }\n",
    "\n",
    "    public class RetrieveWinner : KernelProcessStep\n",
    "    {\n",
    "        [KernelFunction(\"get_sport_event_winner\")]\n",
    "        [Description(\"Get the winner of a sport event. The event is identified by the sport event name and the year.\")]\n",
    "        public string GetSportEventWinner(string sportEventName = \"\", string sportEventYear = \"\")\n",
    "        {\n",
    "            \n",
    "            Console.WriteLine($\"\\tPlugin: 'GetSportEventWinner({sportEventName}, {sportEventYear})' called...\");\n",
    "            Console.WriteLine($\"\\tPlugin: 'GetSportEventWinner({sportEventName}, {sportEventYear})' returning 'Munich Flying Dolphins'...\");\n",
    "            \n",
    "            // Implement the logic to get the winner of the sport event.\n",
    "            return \"Munich Flying Dolphins\";\n",
    "        }\n",
    "    }\n",
    " \n",
    "}\n",
    "\n",
    "Console.WriteLine($\"'RetrieveWinnerProcessStep' defined...\");"
   ]
  },
  {
   "cell_type": "markdown",
   "metadata": {},
   "source": [
    "\n",
    "### RetrieveScoreProcessStep\n",
    "\n",
    "Semantic Kernel and it's plug-in architecture which uses the function calling API of a LLM or SLM is used to identify and execute local functions to identify the winner of the sport event. \n",
    "\n",
    "The function(s) provided in the type `RetrieveScore` are provided to Semantic Kernel to identify and execute the local function `public string GetSportEventWinner()` with the correct parameters.  \n",
    "\n",
    "```csharp\n",
    "kernel.Plugins.Clear();\n",
    "kernel.Plugins.AddFromType<RetrieveScore>(\"RetrieveScore\");\n",
    "```\n"
   ]
  },
  {
   "cell_type": "code",
   "execution_count": null,
   "metadata": {
    "dotnet_interactive": {
     "language": "csharp"
    },
    "polyglot_notebook": {
     "kernelName": "csharp"
    }
   },
   "outputs": [
    {
     "name": "stdout",
     "output_type": "stream",
     "text": [
      "'RetrieveScoreProcessStep' definied...\n"
     ]
    }
   ],
   "source": [
    "#pragma warning disable SKEXP0080\n",
    "\n",
    "public class RetrieveScoreProcessStep : KernelProcessStep\n",
    "{\n",
    "\n",
    "    [KernelFunction]\n",
    "    public async Task<string> QueryForScore(Kernel kernel, string sportEventName)\n",
    "    {\n",
    "\n",
    "        Console.WriteLine($\"\\n'QueryForScore({sportEventName}) called...\");\n",
    "        \n",
    "        IChatCompletionService chatCompletionService = kernel.GetRequiredService<IChatCompletionService>();\n",
    "\n",
    "        string prompt = @$\"\n",
    "            \tWhat was the score of the {sportEventName}? \n",
    "                Just return the score.\"\n",
    "        ;\n",
    "        ChatHistory chatHistory = new ChatHistory();\n",
    "        chatHistory.AddUserMessage(prompt);\n",
    "        \n",
    "        kernel.Plugins.Clear();\n",
    "        kernel.Plugins.AddFromType<RetrieveScore>(\"RetrieveScore\");\n",
    "\n",
    "        KernelFunction getSportEventScore = kernel.Plugins.GetFunction(\"RetrieveScore\", \"get_sport_event_score\");\n",
    "        PromptExecutionSettings promptExecutionSettings = new PromptExecutionSettings() {\n",
    "            FunctionChoiceBehavior = FunctionChoiceBehavior.Required(\n",
    "                new List<KernelFunction>() { getSportEventScore }  \n",
    "            )\n",
    "        };\n",
    "        promptExecutionSettings.FunctionChoiceBehavior = FunctionChoiceBehavior.Required();\n",
    "        \n",
    "        Console.WriteLine($\"\\t'ChatCompletionService' called...\");       \n",
    "        ChatMessageContent chatMessageContent = await chatCompletionService.GetChatMessageContentAsync(\n",
    "            chatHistory: chatHistory, \n",
    "            executionSettings: promptExecutionSettings,\n",
    "            kernel: kernel\n",
    "        );\n",
    "        Console.WriteLine($\"\\t'ChatCompletionService' returned: {chatMessageContent.Content}...\");\n",
    "        \n",
    "        return chatMessageContent.Content ?? \"\";\n",
    "    }\n",
    "\n",
    "\n",
    "    public class RetrieveScore\n",
    "    {\n",
    "        [KernelFunction(\"get_sport_event_score\")]\n",
    "        //Description is just necessary if function name is cryptic and not self-explanatory\n",
    "        [Description(\"Get the score of a specific sport event. The event is identified by the sport event name and the year.\")]\n",
    "        public string GetSportEventScore(string sportEventName = \"\", string sportEventYear = \"\")\n",
    "        {\n",
    "            Console.WriteLine($\"\\tPlugin: 'GetSportEventScore({sportEventName}, {sportEventYear})' called...\");\n",
    "            Console.WriteLine($\"\\tPlugin: 'GetSportEventScore({sportEventName}, {sportEventYear})' returning '24:1'...\");\n",
    "            // Implement the logic to get the result of the sport event.\n",
    "            return \"24:1\";\n",
    "        }\n",
    "    }\n",
    "\n",
    "}  \n",
    "\n",
    "Console.WriteLine($\"'RetrieveScoreProcessStep' definied...\");\n"
   ]
  },
  {
   "cell_type": "markdown",
   "metadata": {},
   "source": [
    "\n",
    "### StoreResultHelper\n",
    "\n",
    "A supportive process step which is used to store information from other process steps."
   ]
  },
  {
   "cell_type": "code",
   "execution_count": null,
   "metadata": {
    "dotnet_interactive": {
     "language": "csharp"
    },
    "polyglot_notebook": {
     "kernelName": "csharp"
    }
   },
   "outputs": [
    {
     "name": "stdout",
     "output_type": "stream",
     "text": [
      "'StoreResultHelper' defined...\n"
     ]
    }
   ],
   "source": [
    "#pragma warning disable SKEXP0080\n",
    "\n",
    "public class StoreResultHelper : KernelProcessStep\n",
    "{\n",
    "    static List<string> _storage = new List<string>();\n",
    "\n",
    "    [KernelFunction]\n",
    "    public async Task StoreResult(string result)\n",
    "    {\n",
    "        await Task.Run( () => _storage.Add(result));\n",
    "    }\n",
    "\n",
    "    [KernelFunction]\n",
    "    public async Task DisplayResults(string result)\n",
    "    {\n",
    "        Console.WriteLine($\"\\nProcess results:\");\n",
    "        await Task.Run( () => {\n",
    "            foreach (string result in _storage)\n",
    "            {\n",
    "                Console.WriteLine($\"\\tStored result: {result}\");\n",
    "            }\n",
    "            Console.WriteLine($\"\\tStored result: {result}\");\n",
    "            _storage.Clear();\n",
    "        });\n",
    "    }\n",
    "}\n",
    "\n",
    "Console.WriteLine($\"'StoreResultHelper' defined...\");"
   ]
  },
  {
   "cell_type": "markdown",
   "metadata": {},
   "source": [
    "## Process Definition\n",
    "\n",
    "The three process steps are 'wired' together using the Semantic Kernel Process Framework:\n",
    "\n",
    "- `retrieveWinnerProcessStep` will get called when an 'event' `retrieveSportEventResult` is triggered within the process flow. \n",
    "- `retrieveScoreProcessStep` will get an 'event' called from `retrieveWinnerProcessStep`\n",
    "- `storeResultProcessStep` will get an 'event' both from `retrieveSportEventResult` and `retrieveScoreProcessStep`. The 'event' from `retrieveScoreProcessStep` will be delivered to the function `DisplayResults()` which will trigger displaying the final result of the process flow.\n"
   ]
  },
  {
   "cell_type": "code",
   "execution_count": null,
   "metadata": {
    "dotnet_interactive": {
     "language": "csharp"
    },
    "polyglot_notebook": {
     "kernelName": "csharp"
    }
   },
   "outputs": [
    {
     "name": "stdout",
     "output_type": "stream",
     "text": [
      "Process defined ...\n"
     ]
    }
   ],
   "source": [
    "#pragma warning disable SKEXP0080\n",
    "\n",
    "// Create the process builder\n",
    "ProcessBuilder processBuilder = new(\"RetrieveSportEventResult\");\n",
    "\n",
    "// Add the steps\n",
    "ProcessStepBuilder retrieveWinnerProcessStep = processBuilder.AddStepFromType<RetrieveWinnerProcessStep>();\n",
    "ProcessStepBuilder retrieveScoreProcessStep = processBuilder.AddStepFromType<RetrieveScoreProcessStep>();\n",
    "ProcessStepBuilder storeResultProcessStep = processBuilder.AddStepFromType<StoreResultHelper>();\n",
    "\n",
    "processBuilder\n",
    "    .OnInputEvent(\"RetrieveSportEventResult\")\n",
    "    .SendEventTo(new (retrieveWinnerProcessStep));\n",
    "\n",
    "retrieveWinnerProcessStep\n",
    "    .OnFunctionResult()\n",
    "    .SendEventTo(new (retrieveScoreProcessStep))\n",
    "    .SendEventTo(new (storeResultProcessStep, functionName: \"StoreResult\"));\n",
    "\n",
    "retrieveScoreProcessStep\n",
    "    .OnFunctionResult()\n",
    "    .SendEventTo(new (storeResultProcessStep, functionName: \"DisplayResults\"));\n",
    "\n",
    "\n",
    "KernelProcess kernelProcess = processBuilder.Build();\n",
    "\n",
    "Console.WriteLine($\"Process defined ...\");"
   ]
  },
  {
   "cell_type": "markdown",
   "metadata": {},
   "source": [
    "## Kernel / Process Start\n",
    "\n",
    "A Semantic Kernel instance `kernel` will defined which hosts and executes the defined process flow.\n",
    "\n",
    "Because the process flow and necessary input / output data and format is known just the necessary information to start the process flow is needed. Therefore 'just' the name of the sport event ***Super Sports Championship 2025*** needs to be provided."
   ]
  },
  {
   "cell_type": "code",
   "execution_count": null,
   "metadata": {
    "dotnet_interactive": {
     "language": "csharp"
    },
    "polyglot_notebook": {
     "kernelName": "csharp"
    }
   },
   "outputs": [],
   "source": [
    "#pragma warning disable SKEXP0080\n",
    "\n",
    "Configuration _configuration = new Configuration();\n",
    "IKernelBuilder kernelBuilder = Kernel.CreateBuilder()\n",
    "    .AddAzureOpenAIChatCompletion(\n",
    "        apiKey: _configuration.ApiKey, \n",
    "        endpoint: _configuration.Endpoint, \n",
    "        deploymentName: _configuration.ChatCompletionDeploymentDefault\n",
    "    );\n",
    "kernelBuilder.Services.AddSingleton<Configuration>(_configuration);\n",
    "Kernel kernel = kernelBuilder.Build();\n",
    "\n",
    "KernelProcessContext kernelProcessContext = await kernelProcess.StartAsync(\n",
    "    kernel, \n",
    "    new KernelProcessEvent { \n",
    "        Id = \"RetrieveSportEventResult\", \n",
    "        Data = \"Super Sports Championship 2025\" \n",
    "    }\n",
    ");\n",
    "\n",
    "Console.WriteLine($\"\\nProcess finished...\");"
   ]
  },
  {
   "cell_type": "markdown",
   "metadata": {},
   "source": [
    "Execution details from the specific steps, with the final result of the process flow are shown. "
   ]
  },
  {
   "cell_type": "markdown",
   "metadata": {},
   "source": [
    "## yd performance test\n",
    "\n",
    "trying to run few user queries"
   ]
  },
  {
   "cell_type": "code",
   "execution_count": null,
   "metadata": {},
   "outputs": [
    {
     "name": "stdout",
     "output_type": "stream",
     "text": [
      "\n",
      "'QueryForWinner(Who won the Super Sports Championship 2023?) called...\n",
      "\n",
      "'QueryForWinner(Who won the Euroleague 2023?) called...\n",
      "\t'ChatCompletionService' called...\n",
      "\n",
      "'QueryForWinner(Who won the Super Sports Championship 2025?) called...\n",
      "\n",
      "'QueryForWinner(What was the score and who won the Euroleague of 2024?) called...\n",
      "\n",
      "'QueryForWinner(What was the final score of the Super Sports Championship 2022?) called...\n",
      "\t'ChatCompletionService' called...\n",
      "\t'ChatCompletionService' called...\n",
      "\t'ChatCompletionService' called...\n",
      "\t'ChatCompletionService' called...\n",
      "\tPlugin: 'GetSportEventWinner(Super Sports Championship, 2022)' called...\n",
      "\tPlugin: 'GetSportEventWinner(Super Sports Championship, 2022)' returning 'Munich Flying Dolphins'...\n",
      "\t'ChatCompletionService' returned Munich Flying Dolphins...\n",
      "\tPlugin: 'GetSportEventWinner(Super Sports Championship, 2025)' called...\n",
      "\tPlugin: 'GetSportEventWinner(Super Sports Championship, 2025)' returning 'Munich Flying Dolphins'...\n",
      "\n",
      "'QueryForScore(Winner: Munich Flying Dolphins - Event: What was the final score of the Super Sports Championship 2022?) called...\n",
      "\tPlugin: 'GetSportEventWinner(Euroleague, 2024)' called...\n",
      "\tPlugin: 'GetSportEventWinner(Euroleague, 2024)' returning 'Munich Flying Dolphins'...\n",
      "\t'ChatCompletionService' called...\n",
      "\tPlugin: 'GetSportEventWinner(Super Sports Championship, 2023)' called...\n",
      "\tPlugin: 'GetSportEventWinner(Super Sports Championship, 2023)' returning 'Munich Flying Dolphins'...\n",
      "\t'ChatCompletionService' returned Munich Flying Dolphins...\n",
      "\n",
      "'QueryForScore(Winner: Munich Flying Dolphins - Event: What was the score and who won the Euroleague of 2024?) called...\n",
      "\t'ChatCompletionService' called...\n",
      "\t'ChatCompletionService' returned Munich Flying Dolphins...\n",
      "\n",
      "'QueryForScore(Winner: Munich Flying Dolphins - Event: Who won the Super Sports Championship 2025?) called...\n",
      "\t'ChatCompletionService' called...\n",
      "\t'ChatCompletionService' returned Munich Flying Dolphins...\n",
      "\n",
      "'QueryForScore(Winner: Munich Flying Dolphins - Event: Who won the Super Sports Championship 2023?) called...\n",
      "\t'ChatCompletionService' called...\n",
      "Processed: \"What was the score and who won the Euroleague of 2024?\" in 2441 ms.\n",
      "\n",
      "'QueryForWinner(What was the decisive score of the Euroleague final in 2022?) called...\n",
      "\t'ChatCompletionService' called...\n",
      "Processed: \"Who won the Super Sports Championship 2025?\" in 2585 ms.\n",
      "\n",
      "'QueryForWinner(Who clinched the title in the Super Sports Championship 2024?) called...\n",
      "\t'ChatCompletionService' called...\n",
      "Processed: \"Who won the Super Sports Championship 2023?\" in 2589 ms.\n",
      "\n",
      "'QueryForWinner(Who was victorious in the Euroleague of 2025?) called...\n",
      "\t'ChatCompletionService' called...\n",
      "Processed: \"What was the decisive score of the Euroleague final in 2022?\" in 151 ms.\n",
      "\n",
      "'QueryForWinner(What was the outcome of the Super Sports Championship 2021?) called...\n",
      "\t'ChatCompletionService' called...\n",
      "\tPlugin: 'GetSportEventScore(Super Sports Championship, 2022)' called...\n",
      "\tPlugin: 'GetSportEventScore(Super Sports Championship, 2022)' returning '24:1'...\n",
      "Processed: \"Who clinched the title in the Super Sports Championship 2024?\" in 153 ms.\n",
      "\n",
      "'QueryForWinner(Who won the Euroleague 2021?) called...\n",
      "\t'ChatCompletionService' called...\n",
      "Processed: \"Who was victorious in the Euroleague of 2025?\" in 151 ms.\n",
      "\n",
      "'QueryForWinner(Who won the Super Sports Championship 2020?) called...\n",
      "\t'ChatCompletionService' called...\n",
      "Processed: \"What was the outcome of the Super Sports Championship 2021?\" in 152 ms.\n",
      "\n",
      "'QueryForWinner(What was the score in the Euroleague of 2020?) called...\n",
      "\t'ChatCompletionService' called...\n",
      "Processed: \"What was the final score of the Super Sports Championship 2022?\" in 2808 ms.\n",
      "\n",
      "'QueryForWinner(Who won the World Cup 2022?) called...\n",
      "\t'ChatCompletionService' called...\n",
      "Processed: \"Who won the Super Sports Championship 2020?\" in 150 ms.\n",
      "\n",
      "'QueryForWinner(What was the final score of the International Grand Slam 2022?) called...\n",
      "\t'ChatCompletionService' called...\n",
      "Processed: \"Who won the Euroleague 2021?\" in 156 ms.\n",
      "\n",
      "'QueryForWinner(Who secured victory in the Continental Cup 2023?) called...\n",
      "\t'ChatCompletionService' called...\n",
      "Processed: \"Who won the World Cup 2022?\" in 152 ms.\n",
      "\n",
      "'QueryForWinner(What was the final result of the National League 2024?) called...\n",
      "\t'ChatCompletionService' called...\n",
      "Processed: \"What was the score in the Euroleague of 2020?\" in 219 ms.\n",
      "\n",
      "'QueryForWinner(Who took the championship in the Global Tournament 2025?) called...\n",
      "\t'ChatCompletionService' called...\n",
      "Processed: \"What was the final score of the International Grand Slam 2022?\" in 152 ms.\n",
      "\n",
      "'QueryForWinner(What was the decisive score in the Global Tournament 2025?) called...\n",
      "\t'ChatCompletionService' called...\n",
      "Processed: \"Who secured victory in the Continental Cup 2023?\" in 155 ms.\n",
      "\n",
      "'QueryForWinner(Who emerged as the winner in the Intercontinental Cup 2024?) called...\n",
      "\t'ChatCompletionService' called...\n",
      "Processed: \"Who took the championship in the Global Tournament 2025?\" in 150 ms.\n",
      "\n",
      "'QueryForWinner(What was the score of the Euroleague final in 2024?) called...\n",
      "\t'ChatCompletionService' called...\n",
      "Processed: \"What was the final result of the National League 2024?\" in 174 ms.\n",
      "Processed: \"What was the decisive score in the Global Tournament 2025?\" in 160 ms.\n",
      "Processed: \"Who emerged as the winner in the Intercontinental Cup 2024?\" in 184 ms.\n",
      "Processed: \"What was the score of the Euroleague final in 2024?\" in 150 ms.\n",
      "\tPlugin: 'GetSportEventWinner(Euroleague, 2023)' called...\n",
      "\tPlugin: 'GetSportEventWinner(Euroleague, 2023)' returning 'Munich Flying Dolphins'...\n",
      "Processed: \"Who won the Euroleague 2023?\" in 3781 ms.\n",
      "\n",
      "=== Performance Statistics (Semantic Kernel) ===\n",
      "Total questions processed: 20\n",
      "Total processing time: 16613 ms\n",
      "Average processing time: 830.65 ms\n",
      "Minimum processing time: 150 ms\n",
      "Maximum processing time: 3781 ms\n",
      "\n",
      "Process finished...\n"
     ]
    }
   ],
   "source": [
    "#pragma warning disable SKEXP0080\n",
    "\n",
    "using System;\n",
    "using System.Collections.Generic;\n",
    "using System.Diagnostics;\n",
    "using System.Linq;\n",
    "using System.Threading;\n",
    "using System.Threading.Tasks;\n",
    "\n",
    "// --- Semantic Kernel Initialization ---\n",
    "Configuration _configuration = new Configuration();\n",
    "IKernelBuilder kernelBuilder = Kernel.CreateBuilder()\n",
    "    .AddAzureOpenAIChatCompletion(\n",
    "        apiKey: _configuration.ApiKey, \n",
    "        endpoint: _configuration.Endpoint, \n",
    "        deploymentName: _configuration.ChatCompletionDeploymentDefault\n",
    "    );\n",
    "kernelBuilder.Services.AddSingleton<Configuration>(_configuration);\n",
    "// Kernel kernel = kernelBuilder.Build();\n",
    "\n",
    "// --- Define the List of Questions ---\n",
    "List<string> questions = new List<string>\n",
    "{\n",
    "    \"Who won the Super Sports Championship 2025?\",\n",
    "    \"What was the score and who won the Euroleague of 2024?\",\n",
    "    \"Who won the Super Sports Championship 2023?\",\n",
    "    \"What was the final score of the Super Sports Championship 2022?\",\n",
    "    \"Who won the Euroleague 2023?\",\n",
    "    \"What was the decisive score of the Euroleague final in 2022?\",\n",
    "    \"Who clinched the title in the Super Sports Championship 2024?\",\n",
    "    \"Who was victorious in the Euroleague of 2025?\",\n",
    "    \"What was the outcome of the Super Sports Championship 2021?\",\n",
    "    \"Who won the Euroleague 2021?\",\n",
    "    \"Who won the Super Sports Championship 2020?\",\n",
    "    \"What was the score in the Euroleague of 2020?\",\n",
    "    \"Who won the World Cup 2022?\",\n",
    "    \"What was the final score of the International Grand Slam 2022?\",\n",
    "    \"Who secured victory in the Continental Cup 2023?\",\n",
    "    \"What was the final result of the National League 2024?\",\n",
    "    \"Who took the championship in the Global Tournament 2025?\",\n",
    "    \"What was the decisive score in the Global Tournament 2025?\",\n",
    "    \"Who emerged as the winner in the Intercontinental Cup 2024?\",\n",
    "    \"What was the score of the Euroleague final in 2024?\"\n",
    "};\n",
    "\n",
    "// --- Performance Testing Using Concurrency ---\n",
    "var processingTimes = new List<long>();\n",
    "\n",
    "// Limit concurrency to 5 tasks at a time.\n",
    "using (var semaphore = new SemaphoreSlim(5))\n",
    "{\n",
    "    var tasks = new List<Task>();\n",
    "\n",
    "    foreach (var question in questions)\n",
    "    {\n",
    "        await semaphore.WaitAsync();\n",
    "        Kernel kernel = kernelBuilder.Build();\n",
    "\n",
    "        tasks.Add(Task.Run(async () =>\n",
    "        {\n",
    "            try\n",
    "            {\n",
    "                // Measure the processing time for this question.\n",
    "                Stopwatch stopwatch = Stopwatch.StartNew();\n",
    "                \n",
    "                // Process the question using semantic kernel.\n",
    "                KernelProcessContext context = await kernelProcess.StartAsync(\n",
    "                    kernel,\n",
    "                    new KernelProcessEvent \n",
    "                    {\n",
    "                        Id = \"RetrieveSportEventResult\",\n",
    "                        Data = question\n",
    "                    }\n",
    "                );\n",
    "                \n",
    "                stopwatch.Stop();\n",
    "                long elapsedMs = stopwatch.ElapsedMilliseconds;\n",
    "                \n",
    "                // Record the processing time.\n",
    "                lock (processingTimes)\n",
    "                {\n",
    "                    processingTimes.Add(elapsedMs);\n",
    "                }\n",
    "                Console.WriteLine($\"Processed: \\\"{question}\\\" in {elapsedMs} ms.\");\n",
    "            }\n",
    "            finally\n",
    "            {\n",
    "                semaphore.Release();\n",
    "            }\n",
    "        }));\n",
    "    }\n",
    "    await Task.WhenAll(tasks);\n",
    "}\n",
    "\n",
    "// --- Compute and Output Performance Metrics ---\n",
    "long totalTime = processingTimes.Sum();\n",
    "double averageTime = processingTimes.Average();\n",
    "long minTime = processingTimes.Min();\n",
    "long maxTime = processingTimes.Max();\n",
    "\n",
    "Console.WriteLine(\"\\n=== Performance Statistics (Semantic Kernel) ===\");\n",
    "Console.WriteLine($\"Total questions processed: {questions.Count}\");\n",
    "Console.WriteLine($\"Total processing time: {totalTime} ms\");\n",
    "Console.WriteLine($\"Average processing time: {averageTime:F2} ms\");\n",
    "Console.WriteLine($\"Minimum processing time: {minTime} ms\");\n",
    "Console.WriteLine($\"Maximum processing time: {maxTime} ms\");\n",
    "\n",
    "Console.WriteLine(\"\\nProcess finished...\");"
   ]
  }
 ],
 "metadata": {
  "kernelspec": {
   "display_name": ".NET (C#)",
   "language": "C#",
   "name": ".net-csharp"
  },
  "polyglot_notebook": {
   "kernelInfo": {
    "defaultKernelName": "csharp",
    "items": [
     {
      "aliases": [],
      "languageName": "csharp",
      "name": "csharp"
     }
    ]
   }
  }
 },
 "nbformat": 4,
 "nbformat_minor": 2
}
