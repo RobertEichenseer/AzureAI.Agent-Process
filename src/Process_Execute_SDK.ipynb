{
 "cells": [
  {
   "cell_type": "markdown",
   "metadata": {},
   "source": [
    "# No Framework Notebook\n",
    "\n",
    "In this notebook, we will explore yet another approach to process a user question, this time no framework would be used (SK). \n",
    "There would be two calls for LLM to classify and understand the user question, the second call (could be optional) would be to validate the generated answer does indeed answer the user question.\n",
    "\n",
    "As before we have couple of methods which are used to obtain the actual answers (not from the LLM) - in our case both methods are simulating a response.\n",
    "\n",
    "This notebook uses basic capabilities to interface with azure open ai. It uses `key` authentication to access the service.\n",
    "It uses the Azure OpenAI SDK 2.1.0."
   ]
  },
  {
   "cell_type": "code",
   "execution_count": null,
   "metadata": {
    "dotnet_interactive": {
     "language": "csharp"
    },
    "polyglot_notebook": {
     "kernelName": "csharp"
    },
    "vscode": {
     "languageId": "polyglot-notebook"
    }
   },
   "outputs": [],
   "source": [
    "#r \"nuget: Azure.AI.OpenAI, 2.1.0\"\n",
    "#r \"nuget: DotNetEnv, 2.5.0\"\n",
    "\n",
    "using Azure;\n",
    "\n",
    "using DotNetEnv;\n",
    "\n",
    "using System.IO;\n",
    "using System.Text.Json;\n",
    "using System.ClientModel;\n",
    "\n",
    "using Azure.AI.OpenAI;\n",
    "using Azure.AI.OpenAI.Chat;\n",
    "\n",
    "using OpenAI.Chat;\n",
    "\n",
    "using OpenAI.Embeddings;"
   ]
  },
  {
   "cell_type": "markdown",
   "metadata": {},
   "source": [
    "## Reading Configuration"
   ]
  },
  {
   "cell_type": "code",
   "execution_count": null,
   "metadata": {
    "vscode": {
     "languageId": "polyglot-notebook"
    }
   },
   "outputs": [],
   "source": [
    "string configurationFile = \"../config/config.env\";\n",
    "\n",
    "Env.Load(configurationFile);\n",
    "\n",
    "string apiKey = Env.GetString(\"SK_OPENAI_APIKEY\");\n",
    "string endpoint = Env.GetString(\"SK_OPENAI_ENDPOINT\");\n",
    "string chatCompletionDeployment = Env.GetString(\"SK_OPENAI_CHATCOMPLETION_DEPLOYMENT_DEFAULT\");\n",
    "string embeddingDeploymentName = Environment.GetEnvironmentVariable(\"EMBEDDING_DEPLOYMENTNAME\") ?? \"EMBEDDING_DEPLOYMENTNAME not found\";"
   ]
  },
  {
   "cell_type": "markdown",
   "metadata": {},
   "source": [
    "## Create Azure OpenAI Client"
   ]
  },
  {
   "cell_type": "code",
   "execution_count": null,
   "metadata": {
    "dotnet_interactive": {
     "language": "csharp"
    },
    "polyglot_notebook": {
     "kernelName": "csharp"
    },
    "vscode": {
     "languageId": "polyglot-notebook"
    }
   },
   "outputs": [],
   "source": [
    "AzureKeyCredential azureKeyCredential = new AzureKeyCredential(apiKey);\n",
    "AzureOpenAIClient openAIClient = new AzureOpenAIClient(new Uri(endpoint), azureKeyCredential);\n",
    "    \n",
    "Console.WriteLine($\"OpenAI Client created: {endpoint} with: {chatCompletionDeployment} and {embeddingDeploymentName} deployments\");"
   ]
  },
  {
   "cell_type": "markdown",
   "metadata": {},
   "source": [
    "## Open AI Helper Methods\n",
    "\n",
    "### GetEmbeddingAsync\n",
    "\n",
    "We have this method, although we are not using it in this notebook, it is used to get the embedding of the text."
   ]
  },
  {
   "cell_type": "code",
   "execution_count": null,
   "metadata": {
    "dotnet_interactive": {
     "language": "csharp"
    },
    "polyglot_notebook": {
     "kernelName": "csharp"
    },
    "vscode": {
     "languageId": "polyglot-notebook"
    }
   },
   "outputs": [],
   "source": [
    "async Task<float[]> GetEmbeddingAsync(AzureOpenAIClient _openAIClient,string textToBeVecorized)\n",
    "{\n",
    "    // Prepare the embeddings options with the user story\\n\",\n",
    "    EmbeddingClient embeddingClient = _openAIClient.GetEmbeddingClient(embeddingDeploymentName);\n",
    "    ClientResult<OpenAIEmbedding> embeddingResult = await embeddingClient.GenerateEmbeddingAsync(textToBeVecorized);   \n",
    "    float[] response = embeddingResult?.Value?.ToFloats().ToArray() ?? new float[0];\n",
    "    return response;\n",
    "}"
   ]
  },
  {
   "cell_type": "markdown",
   "metadata": {},
   "source": [
    "Usage of this method is as follows:\n",
    "\n"
   ]
  },
  {
   "cell_type": "code",
   "execution_count": null,
   "metadata": {
    "dotnet_interactive": {
     "language": "csharp"
    },
    "polyglot_notebook": {
     "kernelName": "csharp"
    },
    "vscode": {
     "languageId": "polyglot-notebook"
    }
   },
   "outputs": [],
   "source": [
    "    float [] xx = await GetEmbeddingAsync(openAIClient,\"sample text to embed\");\n",
    "    Console.WriteLine($\"Embedding: {xx.Length}\");"
   ]
  },
  {
   "cell_type": "markdown",
   "metadata": {},
   "source": [
    "### CallOpenAIAsync\n",
    "\n",
    "Performs the actual call to the `completion` endpoint of the Azure OpenAI service."
   ]
  },
  {
   "cell_type": "code",
   "execution_count": null,
   "metadata": {
    "dotnet_interactive": {
     "language": "csharp"
    },
    "polyglot_notebook": {
     "kernelName": "csharp"
    },
    "vscode": {
     "languageId": "polyglot-notebook"
    }
   },
   "outputs": [],
   "source": [
    "async Task<string> CallOpenAIAsync(AzureOpenAIClient _openAIClient, string prompt, string systemMessage, bool jsonResponse = true)\n",
    "{\n",
    "    // Get the chat client (using your deployment or model name)\n",
    "    ChatClient chatClient = _openAIClient.GetChatClient(chatCompletionDeployment);\n",
    "\n",
    "    ChatCompletionOptions chatComletionOptions = new ChatCompletionOptions(){\n",
    "        MaxOutputTokenCount = 150,\n",
    "        Temperature = 0.7f,\n",
    "        TopP = 1.0f,\n",
    "        FrequencyPenalty = 0.7f,\n",
    "        PresencePenalty = 0.7f,\n",
    "\n",
    "    };\n",
    "\n",
    "    chatComletionOptions.ResponseFormat = jsonResponse ? ChatResponseFormat.CreateJsonObjectFormat() : ChatResponseFormat.CreateTextFormat();\n",
    "\n",
    "    // Prepare your messages\n",
    "    ChatMessage[] messages = new ChatMessage[]\n",
    "    {\n",
    "        new SystemChatMessage(systemMessage),\n",
    "        new UserChatMessage(prompt)\n",
    "    };\n",
    "\n",
    "    // Call the chat completions endpoint with parameters directly\n",
    "    ChatCompletion completions = await chatClient.CompleteChatAsync(        \n",
    "    messages: messages, \n",
    "    options: chatComletionOptions);\n",
    "\n",
    "    // Get the text from the first completion choice\n",
    "    // var resp = completions.Content[0];\n",
    "    \n",
    "    string result = completions.Content[0].Text;\n",
    "    return result;\n",
    "}"
   ]
  },
  {
   "cell_type": "markdown",
   "metadata": {},
   "source": [
    "## Helper Methods & Classes\n",
    "\n",
    "### ProcessLogger\n",
    "\n",
    "Used to provide an execution log of the process."
   ]
  },
  {
   "cell_type": "code",
   "execution_count": null,
   "metadata": {
    "vscode": {
     "languageId": "polyglot-notebook"
    }
   },
   "outputs": [],
   "source": [
    "public class ProcessLogger\n",
    "{\n",
    "    private readonly List<string> _logs = new List<string>();\n",
    "\n",
    "    // Log a generic message.\n",
    "    public void Log(string message)\n",
    "    {\n",
    "        _logs.Add($\"log: {message}\");\n",
    "    }\n",
    "\n",
    "    // Optionally, log specific decision messages.\n",
    "    public void LogDecision(string decision)\n",
    "    {\n",
    "        _logs.Add($\"Decision: {decision}\");\n",
    "    }\n",
    "\n",
    "    // Flush out all logs (for example, to the console) and then clear the log.\n",
    "    public async Task FlushLogsAsync()\n",
    "    {\n",
    "        Console.WriteLine(\"=== Process Log Start ===\");\n",
    "        foreach (var log in _logs)\n",
    "        {\n",
    "            Console.WriteLine(log);\n",
    "        }\n",
    "        Console.WriteLine(\"=== Process Log End ===\");\n",
    "        _logs.Clear();\n",
    "        await Task.CompletedTask;\n",
    "    }\n",
    "}"
   ]
  },
  {
   "cell_type": "markdown",
   "metadata": {},
   "source": [
    "### Simulated Methods : GetSportEventScore, GetSportEventWinner\n",
    "\n",
    "These methods are used to simulate a call to an external data source to obtain the requested information."
   ]
  },
  {
   "cell_type": "code",
   "execution_count": null,
   "metadata": {
    "vscode": {
     "languageId": "polyglot-notebook"
    }
   },
   "outputs": [],
   "source": [
    "public string GetSportEventScore(ProcessLogger logger,string sportEventName = \"\", string sportEventYear = \"\" )\n",
    "{\n",
    "    // Implement the logic to get the result of the sport event.\n",
    "    logger.Log($\"\\tNot-Plugin: 'GetSportEventScore({sportEventName}, {sportEventYear})' called... will return '24:1'\");\n",
    "    return \"24:1\";\n",
    "}\n",
    "\n",
    "public string GetSportEventWinner(ProcessLogger logger,string sportEventName = \"\", string sportEventYear = \"\")\n",
    "{  \n",
    "    logger.Log($\"\\tNot-Plugin: 'GetSportEventWinner({sportEventName}, {sportEventYear})' called... will return 'Munich Flying Dolphins'\");\n",
    "    // Implement the logic to get the winner of the sport event.\n",
    "    return \"Munich Flying Dolphins\";\n",
    "}"
   ]
  },
  {
   "cell_type": "markdown",
   "metadata": {},
   "source": [
    "## Prompts\n",
    "\n",
    "Here we use 2 prompts \n",
    "\n",
    "- Validate the final response before sending it back (guardrail) \n",
    "- Understand the intent, and validate the question is within the domain it can answer"
   ]
  },
  {
   "cell_type": "code",
   "execution_count": null,
   "metadata": {
    "vscode": {
     "languageId": "polyglot-notebook"
    }
   },
   "outputs": [],
   "source": [
    "string systemMessageValidateAnswer = \n",
    "@\"You are an AI assistant that ensure answers match the question asked.\n",
    "You only validate the domain, questions and answer may be in the future or factually incorrect, but still valid answer. \n",
    "The response JSON must have this structure:\n",
    "{\n",
    "  \"\"Answer\"\": \"\"Yes or No\"\",\n",
    "  \"\"Explanation\"\": \"\"<A very short explanation>\"\"\n",
    "} \n",
    "\";\n",
    "string systemMessageUnderstandQuestion = \n",
    "@\"You are an AI assistant that validate the question asked is about a sport event.\n",
    "The response JSON must have this structure:\n",
    "{\n",
    "  \"\"Answer\"\": \"\"Yes or No\"\",\n",
    "  \"\"SportEvent\"\": \"\"<Sport event name>\"\",\n",
    "  \"\"Year\"\": \"\"<Year>\"\",\n",
    "  \"\"Action\"\": \"\"<find_winner, find_score, find_winner_and_score>\"\",\n",
    "  \"\"Explanation\"\": \"\"<A very short explanation>\"\"\n",
    "} \n",
    "\";"
   ]
  },
  {
   "cell_type": "markdown",
   "metadata": {},
   "source": [
    "## Helper classes to serialize LLM response"
   ]
  },
  {
   "cell_type": "code",
   "execution_count": null,
   "metadata": {
    "vscode": {
     "languageId": "polyglot-notebook"
    }
   },
   "outputs": [],
   "source": [
    "using System.Text.Json.Serialization;\n",
    "\n",
    "// Base class representing a generic prompt response.\n",
    "public class PromptResponse\n",
    "{\n",
    "    [JsonPropertyName(\"Answer\")]\n",
    "    public string Answer { get; set; }\n",
    "    \n",
    "    [JsonPropertyName(\"Explanation\")]\n",
    "    public string Explanation { get; set; }\n",
    "}\n",
    "\n",
    "// Derived class for responses that include sports event details.\n",
    "public class SportsPromptResponse : PromptResponse\n",
    "{\n",
    "    [JsonPropertyName(\"SportEvent\")]\n",
    "    public string SportEvent { get; set; }\n",
    "    \n",
    "    [JsonPropertyName(\"Year\")]\n",
    "    public string Year { get; set; }\n",
    "    \n",
    "    [JsonPropertyName(\"Action\")]\n",
    "    public string Action { get; set; }\n",
    "}"
   ]
  },
  {
   "cell_type": "markdown",
   "metadata": {},
   "source": [
    "## RunProcess\n",
    "\n",
    "This is the entry point into the process flow. In this solution, we are using the `ProcessLogger` to log the process flow. Per user question the flow would run as follows:\n",
    "\n",
    "- Understand the user question\n",
    "- Validate the user question\n",
    "- Generate the answer\n",
    "- [Validate the answer] - optional\n"
   ]
  },
  {
   "cell_type": "code",
   "execution_count": null,
   "metadata": {
    "vscode": {
     "languageId": "polyglot-notebook"
    }
   },
   "outputs": [],
   "source": [
    "async Task<string> RunProcess(AzureOpenAIClient _openAIClient, string userQuestion, ProcessLogger logger, bool validate = true)\n",
    "{\n",
    "    // step 1: validate the question, return an object that can be used programmatically\n",
    "    var promptResponse = await CallOpenAIAsync(_openAIClient, userQuestion, systemMessageUnderstandQuestion, true);\n",
    "    SportsPromptResponse response = JsonSerializer.Deserialize<SportsPromptResponse>(promptResponse);\n",
    "    if (response == null || response.Answer != \"Yes\" || response.SportEvent == null || response.Year == null || response.Action == null)\n",
    "    {\n",
    "        logger.LogDecision($\"Invalid question: {userQuestion}\");\n",
    "        return \"Invalid question\";\n",
    "    }\n",
    "    \n",
    "    logger.Log($\"Sport event: {response.SportEvent}, Year: {response.Year}, Action: {response.Action}\");\n",
    "    string sportEventWinner = string.Empty;\n",
    "    string sportEventScore = string.Empty;\n",
    "    string answer = string.Empty;\n",
    "\n",
    "    logger.LogDecision($\"Action: {response.Action}\");\n",
    "    // step 2: based on the actions, retrieve the information, draft the answer to the user question\n",
    "    switch (response.Action)\n",
    "    {\n",
    "        case \"find_winner\":\n",
    "            sportEventWinner = GetSportEventWinner(logger,response.SportEvent, response.Year);\n",
    "            answer = $\"The winner of the {response.SportEvent} in {response.Year} was {sportEventWinner}\";\n",
    "            break;\n",
    "        case \"find_score\":\n",
    "            sportEventScore = GetSportEventScore(logger,response.SportEvent, response.Year);\n",
    "            answer = $\"The score of the {response.SportEvent} in {response.Year} was {sportEventScore}\";\n",
    "            break;\n",
    "        case \"find_winner_and_score\":\n",
    "            sportEventWinner = GetSportEventWinner(logger,response.SportEvent, response.Year);\n",
    "            sportEventScore = GetSportEventScore(logger, response.SportEvent, response.Year);\n",
    "            answer = $\"The winner of the {response.SportEvent} in {response.Year} was {sportEventWinner} with a score of {sportEventScore}\";\n",
    "            break;            \n",
    "        default:\n",
    "            logger.LogDecision($\"Invalid action: {response.Action}\");\n",
    "            return \"Invalid action\";\n",
    "    }   \n",
    "    logger.Log($\"Un validated answer: {answer}\");\n",
    "    // step 3: validate the answer before returning to the user\n",
    "    if (validate)\n",
    "    {\n",
    "        var validateResponse = await CallOpenAIAsync(_openAIClient, answer, systemMessageValidateAnswer, true);\n",
    "        // Console.WriteLine($\"Validation response: {validateResponse}\");\n",
    "        PromptResponse validateRes = JsonSerializer.Deserialize<PromptResponse>(validateResponse);\n",
    "        if (validateRes == null || validateRes.Answer != \"Yes\")\n",
    "        {\n",
    "            return \"I could not draft an answer!\";\n",
    "        }\n",
    "        logger.LogDecision($\"Validated answer: {answer}\");\n",
    "    }\n",
    "\n",
    "    return answer;\n",
    "\n",
    "}"
   ]
  },
  {
   "cell_type": "markdown",
   "metadata": {},
   "source": [
    "## Testing the process\n",
    "\n",
    "Starting with some basic question:"
   ]
  },
  {
   "cell_type": "code",
   "execution_count": null,
   "metadata": {
    "vscode": {
     "languageId": "polyglot-notebook"
    }
   },
   "outputs": [],
   "source": [
    "var userQuestion = \"Who won the Super Sports Championship 2025, i cannot recall the score can u help?\";\n",
    "var logger = new ProcessLogger();\n",
    "var result = await RunProcess(openAIClient, userQuestion, logger,true);\n",
    "await logger.FlushLogsAsync();\n",
    "\n",
    "Console.WriteLine($\"User question: {userQuestion}\");\n",
    "Console.WriteLine($\"Answer: {result}\");"
   ]
  },
  {
   "cell_type": "markdown",
   "metadata": {},
   "source": [
    "## Testing with more questions\n",
    "\n",
    "The following is a method to run multiple user requests and measure the time taken to process each request."
   ]
  },
  {
   "cell_type": "code",
   "execution_count": null,
   "metadata": {
    "vscode": {
     "languageId": "polyglot-notebook"
    }
   },
   "outputs": [],
   "source": [
    "using System;\n",
    "using System.Collections.Generic;\n",
    "using System.Diagnostics;\n",
    "using System.Linq;\n",
    "using System.Threading;\n",
    "using System.Threading.Tasks;\n",
    "\n",
    "public async Task TestPerformanceConcurrent(AzureOpenAIClient openAIClient, bool validate = true)\n",
    "{\n",
    "    // Define a list of 20 questions.\n",
    "    List<string> questions = new List<string>\n",
    "    {\n",
    "        \"Who won the Super Sports Championship 2025?\",\n",
    "        \"What was the score and who won the Euroleague of 2024?\",\n",
    "        \"Who won the Super Sports Championship 2023?\",\n",
    "        \"What was the final score of the Super Sports Championship 2022?\",\n",
    "        \"Who won the Euroleague 2023?\",\n",
    "        \"What was the decisive score of the Euroleague final in 2022?\",\n",
    "        \"Who clinched the title in the Super Sports Championship 2024?\",\n",
    "        \"Who was victorious in the Euroleague of 2025?\",\n",
    "        \"What was the outcome of the Super Sports Championship 2021?\",\n",
    "        \"Who won the Euroleague 2021?\",\n",
    "        \"Who won the Super Sports Championship 2020?\",\n",
    "        \"What was the score in the Euroleague of 2020?\",\n",
    "        \"Who won the World Cup 2022?\",\n",
    "        \"What was the final score of the International Grand Slam 2022?\",\n",
    "        \"Who secured victory in the Continental Cup 2023?\",\n",
    "        \"What was the final result of the National League 2024?\",\n",
    "        \"Who took the championship in the Global Tournament 2025?\",\n",
    "        \"What was the decisive score in the Global Tournament 2025?\",\n",
    "        \"Who emerged as the winner in the Intercontinental Cup 2024?\",\n",
    "        \"What was the score of the Euroleague final in 2024?\"\n",
    "    };\n",
    "\n",
    "    // Create an instance of the logger.\n",
    "    var logger = new ProcessLogger();\n",
    "    logger.Log(\"Concurrent performance test started.\");\n",
    "\n",
    "    // Prepare a list to hold tasks, each returning the processing time in milliseconds.\n",
    "    List<Task<long>> tasks = new List<Task<long>>();\n",
    "\n",
    "    // Use a semaphore to limit the concurrency to 5 tasks.\n",
    "    using (SemaphoreSlim semaphore = new SemaphoreSlim(5))\n",
    "    {\n",
    "        foreach (var question in questions)\n",
    "        {\n",
    "            // Wait until an available slot is free.\n",
    "            await semaphore.WaitAsync();\n",
    "\n",
    "            // Create and start a task for each question.\n",
    "            tasks.Add(Task.Run(async () =>\n",
    "            {\n",
    "                try\n",
    "                {\n",
    "                    logger.Log($\"Processing question: {question}\");\n",
    "                    Stopwatch stopwatch = Stopwatch.StartNew();\n",
    "\n",
    "                    // Run the process for the question (with validation enabled).\n",
    "                    string result = await RunProcess(openAIClient, question, logger, validate);\n",
    "\n",
    "                    stopwatch.Stop();\n",
    "                    long elapsedMs = stopwatch.ElapsedMilliseconds;\n",
    "                    logger.Log($\"Processed question in {elapsedMs} ms: {question}\");\n",
    "                    return elapsedMs;\n",
    "                }\n",
    "                finally\n",
    "                {\n",
    "                    // Always release the semaphore.\n",
    "                    semaphore.Release();\n",
    "                }\n",
    "            }));\n",
    "        }\n",
    "\n",
    "        // Wait for all tasks to complete.\n",
    "        long[] processingTimes = await Task.WhenAll(tasks);\n",
    "\n",
    "        // Compute performance statistics.\n",
    "        long totalTime = processingTimes.Sum();\n",
    "        double averageTime = processingTimes.Any() ? processingTimes.Average() : 0;\n",
    "        long minTime = processingTimes.Any() ? processingTimes.Min() : 0;\n",
    "        long maxTime = processingTimes.Any() ? processingTimes.Max() : 0;\n",
    "\n",
    "        // Log overall statistics.\n",
    "        logger.Log(\"Performance statistics (concurrent):\");\n",
    "        logger.Log($\"Total questions processed: {processingTimes.Length}\");\n",
    "        logger.Log($\"Total processing time: {totalTime} ms\");\n",
    "        logger.Log($\"Average processing time: {averageTime:F2} ms\");\n",
    "        logger.Log($\"Minimum processing time: {minTime} ms\");\n",
    "        logger.Log($\"Maximum processing time: {maxTime} ms\");\n",
    "    }\n",
    "\n",
    "    // Flush out the complete log.\n",
    "    await logger.FlushLogsAsync();\n",
    "}"
   ]
  },
  {
   "cell_type": "code",
   "execution_count": null,
   "metadata": {
    "vscode": {
     "languageId": "polyglot-notebook"
    }
   },
   "outputs": [],
   "source": [
    "await TestPerformanceConcurrent(openAIClient,false);"
   ]
  },
  {
   "cell_type": "markdown",
   "metadata": {
    "vscode": {
     "languageId": "polyglot-notebook"
    }
   },
   "source": [
    "log: Performance statistics:\n",
    "log: Total questions processed: 20\n",
    "log: Total processing time: 92817 ms\n",
    "log: Average processing time: 4640.85 ms\n",
    "log: Minimum processing time: 1679 ms\n",
    "log: Maximum processing time: 23241 ms\n",
    "=== Process Log End ==="
   ]
  },
  {
   "cell_type": "markdown",
   "metadata": {},
   "source": [
    "## Testing Prompts Section"
   ]
  },
  {
   "cell_type": "code",
   "execution_count": null,
   "metadata": {
    "vscode": {
     "languageId": "polyglot-notebook"
    }
   },
   "outputs": [],
   "source": [
    "\n",
    "// Call your OpenAI method, presumably an async method that returns a string response\n",
    "var resp = await CallOpenAI(openAIClient, \n",
    "    \"Question: who won and what was the score of the Super Sports Championship 2025? Answer: Munich Flying Dolphins the score was 24:1\",\n",
    "    systemMessageValidateAnswer, true);\n",
    "\n",
    "// Print the result\n",
    "Console.WriteLine(resp);"
   ]
  },
  {
   "cell_type": "code",
   "execution_count": null,
   "metadata": {
    "vscode": {
     "languageId": "polyglot-notebook"
    }
   },
   "outputs": [],
   "source": [
    "\n",
    "\n",
    "var resp = await CallOpenAI(openAIClient, \n",
    "    \"Question: who won and what was the score of the Super Sports Championship 2025?\",\n",
    "    systemMessageUnderstandQuestion, true);\n",
    "\n",
    "// Print the result\n",
    "Console.WriteLine(resp);"
   ]
  }
 ],
 "metadata": {
  "kernelspec": {
   "display_name": ".NET (C#)",
   "language": "C#",
   "name": ".net-csharp"
  },
  "language_info": {
   "name": "python"
  },
  "polyglot_notebook": {
   "kernelInfo": {
    "defaultKernelName": "csharp",
    "items": [
     {
      "aliases": [],
      "name": "csharp"
     }
    ]
   }
  }
 },
 "nbformat": 4,
 "nbformat_minor": 2
}
